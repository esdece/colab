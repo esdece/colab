{
  "cells": [
    {
      "cell_type": "markdown",
      "source": [
        "# 1. Run the cell below and play the music player to keep the Colab's tab alive"
      ],
      "metadata": {
        "id": "cl_vAnC1ULpF"
      }
    },
    {
      "cell_type": "code",
      "source": [
        "%%html\n",
        "<b>Press play on the music player(Uses only 13MB of data)</b><br/>\n",
        "<audio src=\"https://henk.tech/colabkobold/silence.m4a\" controls>"
      ],
      "metadata": {
        "id": "XAYaLRprRiOD",
        "colab": {
          "base_uri": "https://localhost:8080/",
          "height": 110
        },
        "outputId": "90425a7c-310e-4839-ff3a-735a6719910a"
      },
      "execution_count": null,
      "outputs": [
        {
          "output_type": "display_data",
          "data": {
            "text/plain": [
              "<IPython.core.display.HTML object>"
            ],
            "text/html": [
              "<b>Press play on the music player(Uses only 13MB of data)</b><br/>\n",
              "<audio src=\"https://henk.tech/colabkobold/silence.m4a\" controls>\n"
            ]
          },
          "metadata": {}
        }
      ]
    },
    {
      "cell_type": "code",
      "source": [
        "#@title #Mount Google Drive\n",
        "from google.colab import drive\n",
        "drive.mount('/content/drive')"
      ],
      "metadata": {
        "cellView": "form",
        "id": "XO_xExfjvji_"
      },
      "execution_count": null,
      "outputs": []
    },
    {
      "cell_type": "markdown",
      "source": [
        "# 2. While the music player playing, run the setup"
      ],
      "metadata": {
        "id": "rM7pqlq1UUus"
      }
    },
    {
      "cell_type": "code",
      "execution_count": null,
      "metadata": {
        "id": "sBbcB4vwj_jm"
      },
      "outputs": [],
      "source": [
        "!curl -Lo memfix.zip https://github.com/esdece/sui/raw/main/memfix.zip\n",
        "!unzip /content/memfix.zip\n",
        "!apt install -qq libunwind8-dev\n",
        "!apt install -qq libcairo2-dev pkg-config python3-dev\n",
        "!dpkg -i *.deb\n",
        "%env LD_PRELOAD=libtcmalloc.so\n",
        "!rm *\n",
        "!pip install --upgrade fastapi==0.90.1\n",
        "!pip install torch==1.13.1+cu116 torchvision==0.14.1+cu116 torchaudio==0.13.1 torchtext==0.14.1 torchdata==0.5.1 --extra-index-url https://download.pytorch.org/whl/cu116 -U\n",
        "!curl -Lo sui.zip https://huggingface.co/cmagi/sui/resolve/main/sui.zip\n",
        "!unzip /content/sui.zip\n",
        "!git clone https://github.com/esdece/sui-tunnels /content/sui/extensions/sui-tunnels\n",
        "!git clone https://github.com/esdece/sui-controlnet /content/sui/extensions/sui-controlnet\n",
        "#!git clone https://github.com/esdece/openpose-editor /content/sui/extensions/openpose-editor\n",
        "#!git clone https://github.com/esdece/posex /content/sui/extensions/posex\n",
        "!git clone https://github.com/esdece/sui-tagcomplete /content/sui/extensions/sui-tagcomplete\n",
        "#!git clone https://github.com/esdece/sui-supermerger /content/sui/extensions/sui-supermerger\n",
        "!git clone https://github.com/esdece/sui-locon /content/sui/extensions/sui-locon\n",
        "#!git clone https://github.com/esdece/sui-cutoff /content/sui/extensions/sui-cutoff\n",
        "#!curl -Lo /content/sui/extensions/sui-images-browser.zip https://huggingface.co/cmagi/sui/resolve/main/sui-images-browser.zip\n",
        "#%cd /content/sui/extensions\n",
        "#!unzip /content/sui/extensions/sui-images-browser.zip\n",
        "%cd /content\n",
        "#===============================================================================================================\n",
        "# Models\n",
        "#!curl -Lo /content/sui/models/Stable-diffusion/storymix.safetensors https://civitai.com/api/download/models/75814\n",
        "#!curl -Lo /content/sui/models/Stable-diffusion/anylora.safetensors https://civitai.com/api/download/models/29792\n",
        "!curl -Lo /content/sui/models/Stable-diffusion/v1-5-pruned-emaonly.safetensors https://huggingface.co/runwayml/stable-diffusion-v1-5/resolve/main/v1-5-pruned-emaonly.safetensors\n",
        "#!curl -Lo /content/sui/models/Stable-diffusion/majicmixrealistic.safetensors https://huggingface.co/nolanaatama/mjcmxrlstc/resolve/main/mjcmxrlstc.safetensors\n",
        "#!curl -Lo /content/sui/models/Stable-diffusion/meinaunreal.safetensors https://civitai.com/api/download/models/67468\n",
        "#!curl -Lo /content/sui/models/Stable-diffusion/majicmixfantasy_v20.safetensors https://civitai.com/api/download/models/49055\n",
        "#!curl -Lo /content/sui/models/Stable-diffusion/majicmixRealistic_v5.safetensors https://huggingface.co/sinkinai/majicMIX-realistic-v5/resolve/main/majicmixRealistic_v5.safetensors\n",
        "#================================================================================================================\n",
        "# ControlNet\n",
        "# Remove '#' from the beginning of the line(s) below to download the selected ControlNet model(s)\n",
        "#!curl -Lo /content/sui/extensions/sui-controlnet/models/control_v11e_sd15_ip2p.safetensors https://huggingface.co/nolanaatama/models/resolve/main/control_v11e_sd15_ip2p_fp16.safetensors\n",
        "#!curl -Lo /content/sui/extensions/sui-controlnet/models/control_v11e_sd15_shuffle.safetensors https://huggingface.co/nolanaatama/models/resolve/main/control_v11e_sd15_shuffle_fp16.safetensors\n",
        "\n",
        "\n",
        "##!curl -Lo /content/sui/extensions/sui-controlnet/models/control_v11p_sd15_canny.safetensors https://huggingface.co/nolanaatama/models/resolve/main/control_v11p_sd15_canny_fp16.safetensors\n",
        "##!curl -Lo /content/sui/extensions/sui-controlnet/models/control_v11f1p_sd15_depth.safetensors https://huggingface.co/nolanaatama/models/resolve/main/control_v11p_sd15_depth_fp16.safetensors\n",
        "\n",
        "\n",
        "#!curl -Lo /content/sui/extensions/sui-controlnet/models/control_v11p_sd15_inpaint.safetensors https://huggingface.co/nolanaatama/models/resolve/main/control_v11p_sd15_inpaint_fp16.safetensors\n",
        "#!curl -Lo /content/sui/extensions/sui-controlnet/models/control_v11p_sd15_lineart.safetensors https://huggingface.co/nolanaatama/models/resolve/main/control_v11p_sd15_lineart_fp16.safetensors\n",
        "#!curl -Lo /content/sui/extensions/sui-controlnet/models/control_v11p_sd15_mlsd.safetensors https://huggingface.co/nolanaatama/models/resolve/main/control_v11p_sd15_mlsd_fp16.safetensors\n",
        "\n",
        "\n",
        "##!curl -Lo /content/sui/extensions/sui-controlnet/models/control_v11p_sd15_normalbae.safetensors https://huggingface.co/nolanaatama/models/resolve/main/control_v11p_sd15_normalbae_fp16.safetensors\n",
        "##!curl -Lo /content/sui/extensions/sui-controlnet/models/control_v11p_sd15_openpose.safetensors https://huggingface.co/nolanaatama/models/resolve/main/control_v11p_sd15_openpose_fp16.safetensors\n",
        "##!curl -Lo /content/sui/extensions/sui-controlnet/models/control_v11p_sd15_scribble.safetensors https://huggingface.co/nolanaatama/models/resolve/main/control_v11p_sd15_scribble_fp16.safetensors\n",
        "\n",
        "\n",
        "#!curl -Lo /content/sui/extensions/sui-controlnet/models/control_v11p_sd15_seg.safetensors https://huggingface.co/nolanaatama/models/resolve/main/control_v11p_sd15_seg_fp16.safetensors\n",
        "#!curl -Lo /content/sui/extensions/sui-controlnet/models/control_v11p_sd15_softedge.safetensors https://huggingface.co/nolanaatama/models/resolve/main/control_v11p_sd15_softedge_fp16.safetensors\n",
        "#!curl -Lo /content/sui/extensions/sui-controlnet/models/control_v11p_sd15s2_lineart_anime.safetensors https://huggingface.co/nolanaatama/models/resolve/main/control_v11p_sd15s2_lineart_anime_fp16.safetensors\n",
        "#!curl -Lo /content/sui/extensions/sui-controlnet/models/control_v11f1e_sd15_tile.safetensors https://huggingface.co/nolanaatama/models/resolve/main/control_v11f1e_sd15_tile_fp16.safetensors\n",
        "\n",
        "\n",
        "##!curl -Lo /content/sui/extensions/sui-controlnet/models/t2iadapter_canny_sd14v1.pth https://huggingface.co/nolanaatama/models/resolve/main/t2iadapter_canny_sd14v1.pth\n",
        "\n",
        "\n",
        "#!curl -Lo /content/sui/extensions/sui-controlnet/models/t2iadapter_color_sd14v1.pth https://huggingface.co/nolanaatama/models/resolve/main/t2iadapter_color_sd14v1.pth\n",
        "\n",
        "\n",
        "##!curl -Lo /content/sui/extensions/sui-controlnet/models/t2iadapter_depth_sd14v1.pth https://huggingface.co/nolanaatama/models/resolve/main/t2iadapter_depth_sd14v1.pth\n",
        "\n",
        "\n",
        "#!curl -Lo /content/sui/extensions/sui-controlnet/models/t2iadapter_keypose_sd14v1.pth https://huggingface.co/nolanaatama/models/resolve/main/t2iadapter_keypose_sd14v1.pth\n",
        "\n",
        "\n",
        "##!curl -Lo /content/sui/extensions/sui-controlnet/models/t2iadapter_openpose_sd14v1.pth https://huggingface.co/nolanaatama/models/resolve/main/t2iadapter_openpose_sd14v1.pth\n",
        "\n",
        "\n",
        "#!curl -Lo /content/sui/extensions/sui-controlnet/models/t2iadapter_seg_sd14v1.pth https://huggingface.co/nolanaatama/models/resolve/main/t2iadapter_seg_sd14v1.pth\n",
        "#!curl -Lo /content/sui/extensions/sui-controlnet/models/t2iadapter_sketch_sd14v1.pth https://huggingface.co/nolanaatama/models/resolve/main/t2iadapter_sketch_sd14v1.pth\n",
        "#!curl -Lo /content/sui/extensions/sui-controlnet/models/t2iadapter_style_sd14v1.pth https://huggingface.co/nolanaatama/models/resolve/main/t2iadapter_style_sd14v1.pth\n",
        "import shutil\n",
        "shutil.rmtree('/content/sui/embeddings')\n",
        "!rm sui.zip\n",
        "#!rm sui-images-browser.zip\n",
        "%cd /content/sui\n",
        "!git clone https://huggingface.co/nolanaatama/embeddings\n",
        "%cd /content/sui/models\n",
        "!git clone https://huggingface.co/nolanaatama/ESRGAN\n",
        "%cd /content/sui/extensions/sui-locon\n",
        "!git checkout 04b768b\n",
        "%cd /content/sui/extensions/sui-tagcomplete\n",
        "!git checkout f9f7732\n",
        "%cd /content/sui\n",
        "# Web UI tunnel\n",
        "!COMMANDLINE_ARGS=\"--share --disable-safe-unpickle --no-half-vae --xformers --reinstall-xformers --enable-insecure-extension --gradio-queue\" REQS_FILE=\"requirements.txt\" python launch.py\n",
        "# Use this command below to use cloudflare tunnel\n",
        "#!COMMANDLINE_ARGS=\"--disable-safe-unpickle --no-half-vae --xformers --reinstall-xformers --enable-insecure-extension --gradio-queue --cloudflared\" REQS_FILE=\"requirements.txt\" python launch.py"
      ]
    },
    {
      "cell_type": "markdown",
      "source": [
        "<br>\n",
        "<br>"
      ],
      "metadata": {
        "id": "1jAW4ngyIP0U"
      }
    },
    {
      "cell_type": "code",
      "source": [
        "#@markdown ## **Copy-Paste config.json from Google Drive to Gradio UI**\n",
        "#@markdown Gradio UI Settings\n",
        "import os\n",
        "import shutil\n",
        "\n",
        "copy_dari_folder = \"/content/drive/MyDrive/AI/Daily AI Beauty Intakes/config_nolan_aatama/config.json\"  # @param {'type': 'string'}\n",
        "paste_ke_folder = \"/content/sui/\"  # @param {'type': 'string'}\n",
        "file_config_path = paste_ke_folder + \"config.json\"\n",
        "\n",
        "if os.path.exists(file_config_path):\n",
        "    os.remove(file_config_path)\n",
        "    print(f\"{file_config_path} deleted successfully!\")\n",
        "else:\n",
        "    print(f\"{file_config_path} does not exist.\")\n",
        "\n",
        "shutil.copy(copy_dari_folder, paste_ke_folder)\n",
        "\n",
        "\n",
        "copy_dari_folder1 = \"/content/drive/MyDrive/AI/Daily AI Beauty Intakes/config_nolan_aatama/ui-config.json\"  # @param {'type': 'string'}\n",
        "paste_ke_folder1 = \"/content/sui/\"  # @param {'type': 'string'}\n",
        "file_config_path1 = paste_ke_folder1 + \"ui-config.json\"\n",
        "\n",
        "if os.path.exists(file_config_path1):\n",
        "    os.remove(file_config_path1)\n",
        "    print(f\"{file_config_path1} deleted successfully!\")\n",
        "else:\n",
        "    print(f\"{file_config_path1} does not exist.\")\n",
        "\n",
        "shutil.copy(copy_dari_folder1, paste_ke_folder1)"
      ],
      "metadata": {
        "cellView": "form",
        "id": "VWoDnDpnIPZz"
      },
      "execution_count": null,
      "outputs": []
    },
    {
      "cell_type": "markdown",
      "source": [
        "<br>\n",
        "<br>\n",
        "\n",
        "### **STOP above, START below!**"
      ],
      "metadata": {
        "id": "yTeAer3L1XMX"
      }
    },
    {
      "cell_type": "markdown",
      "source": [
        "<br>"
      ],
      "metadata": {
        "id": "srFdkSCz6YJR"
      }
    },
    {
      "cell_type": "code",
      "source": [
        "# Custom VAE\n",
        "!curl -Lo /content/sui/models/VAE/sd.ckpt https://huggingface.co/stabilityai/sd-vae-ft-mse-original/resolve/main/vae-ft-mse-840000-ema-pruned.ckpt\n",
        "!curl -Lo /content/sui/models/VAE/wd.ckpt https://huggingface.co/hakurei/waifu-diffusion-v1-4/resolve/main/vae/kl-f8-anime.ckpt\n",
        "\n",
        "# Custom Extensions\n",
        "!git clone https://github.com/esdece/sui-ar /content/sui/extensions/sui-ar\n",
        "!git clone https://github.com/esdece/sui-depth-lib /content/sui/sui-depth-lib\n",
        "#!git clone https://github.com/esdece/sui-3d-open-pose-editor /content/sui/extensions/sui-3d-open-pose-editor\n",
        "!git clone https://github.com/vladmandic/sd-extension-steps-animation /content/sui/extensions/sd-extension-steps-animation\n",
        "!git clone https://github.com/AlUlkesh/sd_save_intermediate_images /content/sui/extensions/sd_save_intermediate_images\n",
        "!git clone https://github.com/kex0/batch-face-swap /content/sui/extensions/batch-face-swap\n",
        "#!git clone https://github.com/ilian6806/rembgr /content/sui/extensions/rembgr\n",
        "\n",
        "!git clone https://github.com/Zyin055/Config-Presets /content/sui/Config-Presets\n",
        "\n",
        "# ============== START: LoRA Code =======================================\n",
        "# v2.0 korean\n",
        "#!curl -Lo /content/sui/models/Lora/koreanDollLikeness_v20.safetensors https://huggingface.co/nolanaatama/kdllora/resolve/main/kdllorav20.safetensors\n",
        "# v2.0 taiwan\n",
        "!curl -Lo /content/sui/models/Lora/taiwanDollLikeness_v20.safetensors https://huggingface.co/nolanaatama/tdllora/resolve/main/tdllorav2.safetensors\n",
        "# loraeyes\n",
        "!curl -Lo /content/sui/models/Lora/loraeyes_v10.safetensors https://civitai.com/api/download/models/6433\n",
        "# add_detail\n",
        "!curl -Lo /content/sui/models/Lora/add_detail.safetensors https://civitai.com/api/download/models/62833\n",
        "# ============== END: LoRA Code =========================================\n",
        "\n",
        "\n",
        "# Web UI tunnel\n",
        "!COMMANDLINE_ARGS=\"--share --disable-safe-unpickle --no-half-vae --xformers --reinstall-xformers --enable-insecure-extension --gradio-queue\" REQS_FILE=\"requirements.txt\" python launch.py\n"
      ],
      "metadata": {
        "id": "IN4c4ARoNl7v"
      },
      "execution_count": null,
      "outputs": []
    },
    {
      "cell_type": "markdown",
      "source": [
        "<br>\n",
        "<br>\n",
        "\n",
        "### **STOP above, START below!**"
      ],
      "metadata": {
        "id": "chM0dc8X1lKV"
      }
    },
    {
      "cell_type": "markdown",
      "source": [
        "<br>\n",
        "<br>"
      ],
      "metadata": {
        "id": "GtTgfYXGDoDA"
      }
    },
    {
      "cell_type": "code",
      "source": [
        "!curl -Lo /content/sui/models/Stable-diffusion/angelicara.safetensors https://huggingface.co/cmagi/angelicara/resolve/main/angelicara.safetensors\n",
        "\n",
        "# Web UI tunnel\n",
        "!COMMANDLINE_ARGS=\"--share --disable-safe-unpickle --no-half-vae --xformers --reinstall-xformers --enable-insecure-extension --gradio-queue\" REQS_FILE=\"requirements.txt\" python launch.py\n",
        "# Use this command below to use cloudflare tunnel\n",
        "#!COMMANDLINE_ARGS=\"--disable-safe-unpickle --no-half-vae --xformers --reinstall-xformers --enable-insecure-extension --gradio-queue --cloudflared\" REQS_FILE=\"requirements.txt\" python launch.py"
      ],
      "metadata": {
        "id": "MGx0PkjKDp-s"
      },
      "execution_count": null,
      "outputs": []
    },
    {
      "cell_type": "markdown",
      "source": [
        "<br>\n",
        "<br>\n"
      ],
      "metadata": {
        "id": "G_BwjHpZOshi"
      }
    },
    {
      "cell_type": "markdown",
      "source": [
        "<br>\n",
        "<br>\n",
        "<br>\n",
        "<br>\n",
        "\n",
        "\n",
        "## **Angelicara usage**\n",
        "\n",
        "angelicara,20 y.o. photo of angelicara,(((half body,alone,sharp focus on face))),((red queen robe,wavy hair,random shoot)), (photorealistic,high detailed skin,smile:1.4),1girl,alone,masterpiece,best quality, (cleavage,slender legs,slender waist,navel,E Cup breasts,earrings), in photo studio,indoor,((ultra sharp))\n",
        "Negative prompt: (worst quality,low quality,normal quality:2),lowres,bad anatomy,bad hands,normal quality,((monochrome)),((grayscale)), text, fonts, letters, watermark,((bad-hands-5)),ng_deepnegative_v1_75t,triple legs,denim, bad-image-v2-39000, bad_prompt, bad_prompt_version2, EasyNegative, EasyNegativeV2,mole,freckles,brands,brand,trademark,trademarks,two heads,two faces,interwined fingers,\n",
        "Steps: 30, Sampler: DPM++ 2M Karras, CFG scale: 7, Seed: 1641913661, Size: 512x910, Model hash: 9db73889f9, Model: angelicara, Denoising strength: 0.4, Clip skip: 2, Hires upscale: 1.5, Hires steps: 15, Hires upscaler: R-ESRGAN 4x+\n",
        "\n",
        "\n",
        "\n",
        "Used embeddings: bad-hands-5 [10ca], ng_deepnegative_v1_75t [1a3e], bad-image-v2-39000 [b03e], bad_prompt [1d99], bad_prompt_version2 [afea], easynegative [119b], EasyNegativeV2 [5685]"
      ],
      "metadata": {
        "id": "0DwYF_aLUXKy"
      }
    },
    {
      "cell_type": "markdown",
      "metadata": {
        "id": "fhwIXzcgfkoR"
      },
      "source": [
        "<br>\n",
        "<br>\n",
        "<br>\n",
        "<br>\n",
        "\n",
        "📚 GitHub for more: [_@nolanaatama_](https://github.com/nolanaatama)\n",
        "\n",
        "📦 Repo: [Github](https://github.com/nolanaatama/sd-1click-colab)"
      ]
    }
  ],
  "metadata": {
    "accelerator": "GPU",
    "colab": {
      "provenance": [],
      "gpuType": "T4"
    },
    "kernelspec": {
      "display_name": "Python 3",
      "name": "python3"
    },
    "language_info": {
      "name": "python"
    }
  },
  "nbformat": 4,
  "nbformat_minor": 0
}